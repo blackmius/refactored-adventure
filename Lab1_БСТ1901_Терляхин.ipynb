{
 "cells": [
  {
   "cell_type": "markdown",
   "metadata": {},
   "source": [
    "# Лабораторная работа №1\n",
    "## Выполнил студент группы БСТ1901 Терляхин Д. Р. Вариант 16\n",
    "### Задание 1\n",
    "1. Создать Jupyter Notebook со следующим наименованием: Lab1_Группа_ФИО\n",
    "2. Создать новую ячейку с помощью кнопки\n",
    "3. В созданной ячейке по указанной ниже форме заполните оглавление файла,\n",
    "заменив наименование группы и вписав свое ФИО,\n",
    "Рисунок 1 - Форма оглавления файла в ячейке\n",
    "после чего создайте еще одну ячейку и напишите следующий код:\n",
    "4. С помощью кнопки запустите выполнение всех ячеек.\n",
    "5. После выполнения у вас должна отформатироваться ячейка с оглавлением и\n",
    "должен выполниться “Hello, World!” (см. рис. 2)"
   ]
  },
  {
   "cell_type": "code",
   "execution_count": 1,
   "metadata": {},
   "outputs": [
    {
     "name": "stdout",
     "output_type": "stream",
     "text": [
      "Hello, World!\n"
     ]
    }
   ],
   "source": [
    "print(\"Hello, World!\")"
   ]
  },
  {
   "cell_type": "markdown",
   "metadata": {},
   "source": [
    "### Задание 2\n",
    "Написать генератор случайных матриц(многомерных), который принимает\n",
    "опциональные параметры `m, n, min_limit, max_limit`, где `m` и `n` указывают размер\n",
    "матрицы, а `min_lim` и `max_lim` - минимальное и максимальное значение для\n",
    "генерируемого числа . По умолчанию при отсутствии параметров принимать следующие\n",
    "значения:\n",
    "``` python\n",
    "m = 50\n",
    "n = 50\n",
    "min_limit = -250\n",
    "max_limit = 1000 + (номер своего варианта)\n",
    "```\n",
    "\n",
    "![matrix image](https://upload.wikimedia.org/wikipedia/commons/b/bf/Matris.png)\n"
   ]
  },
  {
   "cell_type": "code",
   "execution_count": 2,
   "metadata": {},
   "outputs": [],
   "source": [
    "import random"
   ]
  },
  {
   "cell_type": "code",
   "execution_count": 15,
   "metadata": {},
   "outputs": [],
   "source": [
    "def random_matrix(m = 50, n = 50, min_limit = -250, max_limit = 1016):\n",
    "    return [[random.randint(min_limit, max_limit) for _ in range(n)] for _ in range(m)]"
   ]
  },
  {
   "cell_type": "markdown",
   "metadata": {},
   "source": [
    "### Задание 3\n",
    "Реализовать методы сортировки строк числовой матрицы в соответствии с\n",
    "заданием. Оценить время работы каждого алгоритма сортировки и сравнить его со\n",
    "временем стандартной функции сортировки. Испытания проводить на сгенерированных\n",
    "матрицах.\n",
    "\n",
    "Методы:\n",
    "\n",
    "| Алгоритм | Время Работы |\n",
    "| --- | --- |\n",
    "| [Выбором](https://en.wikipedia.org/wiki/Selection_sort) | 0 |\n",
    "| [Вставкой](https://en.wikipedia.org/wiki/Insertion_sort) | 0 |\n",
    "| [Обменом](https://en.wikipedia.org/wiki/Bubble_sort) | 0 |\n",
    "| [Шелла](https://en.wikipedia.org/wiki/Shellsort) | 0 |\n",
    "| [Турнирная](https://en.wikipedia.org/wiki/Tournament_sort) | 0 |\n",
    "| [Быстрая сортировка](https://en.wikipedia.org/wiki/Quicksort) | 0 | \n",
    "| [Пирамидальная](https://en.wikipedia.org/wiki/Heapsort) | 0 |"
   ]
  },
  {
   "cell_type": "code",
   "execution_count": 8,
   "metadata": {},
   "outputs": [],
   "source": [
    "# Сортировка выбором\n",
    "def selection_sort(arr):\n",
    "    for i, e in enumerate(arr):\n",
    "        mn = min(range(i, len(arr)), key=arr.__getitem__)\n",
    "        arr[i], arr[mn] = arr[mn], e\n",
    "    return arr"
   ]
  },
  {
   "cell_type": "code",
   "execution_count": 9,
   "metadata": {},
   "outputs": [],
   "source": [
    "# Сортировка вставтой\n",
    "def insertion_sort(arr):\n",
    "    for i, e in enumerate(arr, 1):\n",
    "        j = i - 1\n",
    "        while j >= 0 and e < arr[j]: \n",
    "            A[j+1] = A[j]\n",
    "            j -= 1\n",
    "        A[j+1] = e"
   ]
  },
  {
   "cell_type": "code",
   "execution_count": 11,
   "metadata": {},
   "outputs": [],
   "source": [
    "# Сортировка обменом\n",
    "def bubble_sort(arr):\n",
    "    for i in range(len(arr)):\n",
    "        for j in range(0, len(arr)-i-1): \n",
    "            if arr[j] > arr[j+1] : \n",
    "                arr[j], arr[j+1] = arr[j+1], arr[j]"
   ]
  },
  {
   "cell_type": "code",
   "execution_count": 12,
   "metadata": {},
   "outputs": [],
   "source": [
    "# Сортировка Шелла\n",
    "def shell_sort(arr):\n",
    "    last_index = len(arr) - 1\n",
    "    step = len(arr) // 2\n",
    "    while step > 0:\n",
    "        for i in range(step, last_index + 1, 1):\n",
    "            j = i\n",
    "            delta = j - step\n",
    "            while delta >= 0 and arr[delta] > arr[j]:\n",
    "                arr[delta], arr[j] = arr[j], arr[delta]\n",
    "                j = delta\n",
    "                delta = j - step\n",
    "        step //= 2"
   ]
  },
  {
   "cell_type": "code",
   "execution_count": 16,
   "metadata": {},
   "outputs": [],
   "source": [
    "# Быстрая сортировка\n",
    "def quick_sort(nums, fst, lst):\n",
    "    if fst >= lst:\n",
    "        return\n",
    " \n",
    "   i, j = fst, lst\n",
    "   pivot = nums[random.randint(fst, lst)]\n",
    " \n",
    "   while i <= j:\n",
    "       while nums[i] < pivot: i += 1\n",
    "       while nums[j] > pivot: j -= 1\n",
    "       if i <= j:\n",
    "           nums[i], nums[j] = nums[j], nums[i]\n",
    "           i, j = i + 1, j - 1\n",
    "   quicksort(nums, fst, j)\n",
    "   quicksort(nums, i, lst)"
   ]
  },
  {
   "cell_type": "code",
   "execution_count": 13,
   "metadata": {},
   "outputs": [],
   "source": [
    "# Турнирная сортировка\n"
   ]
  },
  {
   "cell_type": "code",
   "execution_count": null,
   "metadata": {},
   "outputs": [],
   "source": [
    "# Пирамидальная сортировка\n"
   ]
  },
  {
   "cell_type": "code",
   "execution_count": null,
   "metadata": {},
   "outputs": [],
   "source": [
    "import random\n",
    "import time\n",
    "\n",
    "SORT_FUNCTIONS = {\n",
    "    'BINARY INSERTION SORT': insertion_sort,\n",
    "    'BUBBLE SORT': bubble_sort,\n",
    "}\n",
    "\n",
    "random_numbers = random.sample(range(8000), 2000)\n",
    "random_numbers_sorted = sorted(random_numbers)\n",
    "random_numbers_reverse_sorted = sorted(random_numbers, reverse=True)\n",
    "\n",
    "\n",
    "def print_comparison(comparison):\n",
    "    largest_name_len = len(max(comparison.keys(), key=len))\n",
    "    largest_name_len += 6\n",
    "\n",
    "    heading = 'ALGORITHM'.ljust(largest_name_len) + 'TIME TAKEN'\n",
    "    print(heading)\n",
    "    print('-' * len(heading))\n",
    "    for algo, time_taken in comparison.items():\n",
    "        print(f'{algo:<{largest_name_len}}{time_taken}')\n",
    "\n",
    "print('Сравнение сортирующих алгоритмов:')\n",
    "print('------------------------------------------------------')\n",
    "time_taken = {}\n",
    "for algo_name, sorter in SORT_FUNCTIONS.items():\n",
    "    start = time.perf_counter()\n",
    "    sorter(numbers.copy())\n",
    "    end = time.perf_counter()\n",
    "\n",
    "    time_taken[algo_name] = end - start\n",
    "\n",
    "time_taken_sorted = dict(sorted(time_taken.items(), key=lambda kv: kv[1]))\n",
    "print_comparison(time_taken_sorted)"
   ]
  },
  {
   "cell_type": "markdown",
   "metadata": {},
   "source": [
    "### Задание №4:\n",
    "Создать публичный репозиторий на github, и запушить выполненное задание в\n",
    ".ipynb формате.\n",
    "\n",
    "https://github.com/blackmius/refactored-adventure"
   ]
  }
 ],
 "metadata": {
  "kernelspec": {
   "display_name": "Python 3",
   "language": "python",
   "name": "python3"
  },
  "language_info": {
   "codemirror_mode": {
    "name": "ipython",
    "version": 3
   },
   "file_extension": ".py",
   "mimetype": "text/x-python",
   "name": "python",
   "nbconvert_exporter": "python",
   "pygments_lexer": "ipython3",
   "version": "3.8.5"
  }
 },
 "nbformat": 4,
 "nbformat_minor": 4
}
