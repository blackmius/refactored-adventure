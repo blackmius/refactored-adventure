{
 "metadata": {
  "language_info": {
   "codemirror_mode": {
    "name": "ipython",
    "version": 3
   },
   "file_extension": ".py",
   "mimetype": "text/x-python",
   "name": "python",
   "nbconvert_exporter": "python",
   "pygments_lexer": "ipython3",
   "version": "3.8.5"
  },
  "orig_nbformat": 2,
  "kernelspec": {
   "name": "python385jvsc74a57bd0916dbcbb3f70747c44a77c7bcd40155683ae19c65e1c03b4aa3499c5328201f1",
   "display_name": "Python 3.8.5 64-bit"
  },
  "metadata": {
   "interpreter": {
    "hash": "916dbcbb3f70747c44a77c7bcd40155683ae19c65e1c03b4aa3499c5328201f1"
   }
  }
 },
 "nbformat": 4,
 "nbformat_minor": 2,
 "cells": [
  {
   "source": [
    "# Лабораторная работа №4\n",
    "## Выполнил студент группы БСТ1901 Терляхин Д. Р. Вариант 16\n",
    "\n",
    "Реализовать следующие структуры данных:\n",
    "\n",
    "1. __Стек__ (stack):\n",
    "\n",
    "    операции _для стека_: инициализация, проверка на пустоту, добавление\n",
    "    нового элемента в начало, извлечение элемента из начала;\n",
    "    \n",
    "2. __Дек__ (двусторонняя очередь, deque):\n",
    "\n",
    "    операции _для дека_: инициализация, проверка на пустоту, добавление\n",
    "    нового элемента в начало, добавление нового элемента в конец,\n",
    "    извлечение элемента из начала, извлечение элемента из конца.\n",
    "\n",
    "Разработать программу обработки данных, содержащихся в заранее\n",
    "подготовленном txt-файле, в соответствии с заданиями, применив\n",
    "указанную в задании структуру данных. Результат работы программы\n",
    "вывести на экран и сохранить в отдельном txt-файле.\n",
    "\n",
    "Оформить отчет о лабораторной работе в ipynb или pdf-файле.\n"
   ],
   "cell_type": "markdown",
   "metadata": {}
  },
  {
   "cell_type": "code",
   "execution_count": 3,
   "metadata": {},
   "outputs": [],
   "source": [
    "class LinkedNode:\n",
    "    \"\"\" Связный список с ссылками на обратный и следующий элемент \"\"\"\n",
    "    def __init__(self, value=None):\n",
    "        self.value = value\n",
    "        self.right = None\n",
    "        self.left = None"
   ]
  },
  {
   "source": [
    "### Стек"
   ],
   "cell_type": "markdown",
   "metadata": {}
  },
  {
   "cell_type": "code",
   "execution_count": 59,
   "metadata": {},
   "outputs": [],
   "source": [
    "class Stack:\n",
    "    def __init__(self):\n",
    "        self.head = LinkedNode()\n",
    "        self.size = 0\n",
    "\n",
    "    def is_empty(self):\n",
    "        return self.size == 0\n",
    "\n",
    "    def push(self, value):\n",
    "        if self.size > 0:\n",
    "            node = LinkedNode(value)\n",
    "            node.right = self.head\n",
    "            self.head = node\n",
    "        else:\n",
    "            self.head.value = value\n",
    "        self.size += 1\n",
    "      \n",
    "    def pop(self):\n",
    "        if self.is_empty():\n",
    "            raise Exception(\"Popping from an empty stack\")\n",
    "        remove = self.head\n",
    "        if self.size > 1:\n",
    "            self.head = remove.right\n",
    "        self.size -= 1\n",
    "        return remove.value\n",
    "    \n",
    "    def peek(self):\n",
    "        if self.is_empty():\n",
    "            raise Exception(\"Popping from an empty stack\")\n",
    "        return self.head.value\n",
    "    \n",
    "    def __len__(self):\n",
    "        return self.size\n",
    "\n",
    "    def reverse(self):\n",
    "        current = self.head\n",
    "        prev = None\n",
    "        next = None\n",
    " \n",
    "        while current is not None:\n",
    "            next = current.right\n",
    "            current.right = prev\n",
    "            prev = current\n",
    "            current = next\n",
    "\n",
    "        self.head = prev\n"
   ]
  },
  {
   "source": [
    "### Дек"
   ],
   "cell_type": "markdown",
   "metadata": {}
  },
  {
   "cell_type": "code",
   "execution_count": 5,
   "metadata": {},
   "outputs": [],
   "source": [
    "class Deque:\n",
    "    def __init__(self):\n",
    "        self.head = LinkedNode()\n",
    "        self.tail = self.head\n",
    "        self.size = 0\n",
    "    \n",
    "    def is_empty(self):\n",
    "        return self.size == 0\n",
    "\n",
    "    def push_left(self, value):\n",
    "        if self.size > 0:\n",
    "            node = LinkedNode(value)\n",
    "            node.right = self.tail\n",
    "            self.tail.left = node\n",
    "            self.tail = node\n",
    "        else:\n",
    "            self.tail.value = value\n",
    "        self.size += 1\n",
    "\n",
    "    def push(self, value):\n",
    "        if self.size > 0:\n",
    "            node = LinkedNode(value)\n",
    "            node.left = self.head\n",
    "            self.head.right = node\n",
    "            self.head = node\n",
    "        else:\n",
    "            self.head.value = value\n",
    "        self.size += 1\n",
    "    \n",
    "    def pop_left(self):\n",
    "        if self.is_empty():\n",
    "            raise Exception(\"Popping from an empty deque\")\n",
    "        remove = self.tail\n",
    "        if self.size > 1:\n",
    "            self.tail = remove.right\n",
    "        self.size -= 1\n",
    "        return remove.value\n",
    "    \n",
    "    def pop(self):\n",
    "        if self.is_empty():\n",
    "            raise Exception(\"Popping from an empty deque\")\n",
    "        remove = self.head\n",
    "        if self.size > 1:\n",
    "            self.head = remove.left\n",
    "        self.size -= 1\n",
    "        return remove.value\n",
    "    \n",
    "    def peek(self):\n",
    "        if self.is_empty():\n",
    "            raise Exception(\"Popping from an empty deque\")\n",
    "        return self.head.value\n",
    "    \n",
    "    def peek_left(self):\n",
    "        if self.is_empty():\n",
    "            raise Exception(\"Popping from an empty deque\")\n",
    "        return self.tail.value\n",
    "\n",
    "    def __len__(self):\n",
    "        return self.size\n"
   ]
  },
  {
   "source": [
    "### Задание 1.\n",
    "Отсортировать строки файла, содержащие названия книг, в алфавитном порядке с\n",
    "использованием двух деков."
   ],
   "cell_type": "markdown",
   "metadata": {}
  },
  {
   "cell_type": "code",
   "execution_count": 51,
   "metadata": {},
   "outputs": [
    {
     "output_type": "stream",
     "name": "stdout",
     "text": [
      "Эндана\n\nЧерное копье\n\nТрансерфинг реальности. Ступень V: Яблоки падают в небо\n\nТетрадь Смерти. Другая Тетрадь: Дело лос-анджелесского убийцы ББ\n\nТайна полтергейста\n\nПроект \"Рози\"\n\nПредназначение быть Женщиной\n\nПослание в бутылке\nПисьма римскому другу\n\nОкольные пути\n\nОдинокая велосипедистка\n\nНочной дозор\n\nНовые стансы к Августе\n\nМысли широко\n\nМолли Мун останавливает время\n\nМеханическая птица\n\nМаркиза де Сад\n\nЛжец\n\nЛабиринт отражений\n\nКредо\n\nЗеленые воды Ишмы\n\nЖизнь Ивана Семенова, второклассника и второгодника\n\nЖизнь Галилея\n\nДживс готовит омлет\n\nДело не в кофе: Корпоративная культура Starbucks\n\nГорбун лорда Кромвеля\n\nВскрытие показало...\n\nБлокадная книга\n\nАвгуст 1999. Летняя ночь\n\nP. S. Я все еще люблю тебя\n\n"
     ]
    }
   ],
   "source": [
    "with open('books', 'r') as books:\n",
    "    q1 = Deque()\n",
    "    q2 = Deque()\n",
    "    for book in books:\n",
    "        q1.push(book)\n",
    "    while not q1.is_empty():\n",
    "        x = q1.pop()\n",
    "        while not q2.is_empty() and q2.peek() > x:\n",
    "            q1.push_left(q2.pop())\n",
    "        q2.push(x)\n",
    "    while not q2.is_empty():\n",
    "        print(q2.pop())"
   ]
  },
  {
   "source": [
    "### Задание 2.\n",
    "Дек содержит последовательность символов для шифровки сообщений.\n",
    "Дан текстовый файл, содержащий зашифрованное сообщение. Пользуясь деком,\n",
    "расшифровать текст. Известно, что при шифровке каждый символ сообщения\n",
    "заменялся следующим за ним в деке по часовой стрелке через один."
   ],
   "cell_type": "markdown",
   "metadata": {}
  },
  {
   "cell_type": "code",
   "execution_count": 6,
   "metadata": {},
   "outputs": [],
   "source": [
    "import random"
   ]
  },
  {
   "cell_type": "code",
   "execution_count": 13,
   "metadata": {},
   "outputs": [
    {
     "output_type": "stream",
     "name": "stdout",
     "text": [
      "эчскмоуфюхяшгацьёлржезыдтънщйбпви\n"
     ]
    }
   ],
   "source": [
    "alphabet = list('абвгдеёжзийклмнопрстуфхцчшщъыьэюя')\n",
    "random.shuffle(alphabet)\n",
    "alphabet = ''.join(alphabet)\n",
    "print(alphabet)\n",
    "keyRing = Deque()\n",
    "for letter in alphabet:\n",
    "    keyRing.push(letter)"
   ]
  },
  {
   "cell_type": "code",
   "execution_count": 24,
   "metadata": {},
   "outputs": [],
   "source": [
    "def encode_char(c):\n",
    "    for i in range(len(keyRing)):\n",
    "        x = keyRing.pop_left()\n",
    "        if x == c:\n",
    "            keyRing.push(x)\n",
    "            val = keyRing.pop_left()\n",
    "            keyRing.push(val)\n",
    "            return val\n",
    "        keyRing.push(x)\n",
    "\n",
    "def decode_char(c):\n",
    "    for i in range(len(keyRing)):\n",
    "        x = keyRing.pop()\n",
    "        if x == c:\n",
    "            keyRing.push_left(x)\n",
    "            val = keyRing.pop()\n",
    "            keyRing.push_left(val)\n",
    "            return val\n",
    "        keyRing.push_left(x)"
   ]
  },
  {
   "cell_type": "code",
   "execution_count": 25,
   "metadata": {},
   "outputs": [
    {
     "output_type": "stream",
     "name": "stdout",
     "text": [
      "тзм кутзжеэъ вукрзтуицъзрёщукъё кэоиуруи трш гэюжуимэ куупйзщэб. тцщ ъзмкъуидб юцбр, кутзжецйэб ыцгэюжуицщщуз куупйзщэз. вурёыфшкё тзмуо, жцкгэюжуицъё ъзмкъ. эыизкъщу, съу вжэ гэюжуимз мцетдб кэоиур куупйзщэш ыцозщшркш крзтфхйэо ыц щэо и тзмз ву сцкуиуб къжзрмз сзжзы утэщ.\nдек содержит последовательность символов для шифровки сообщений. дан текстовый файл, содержащий зашифрованное сообщение. пользуясь деком, расшифровать текст. известно, что при шифровке каждый символ сообщения заменялся следующим за ним в деке по часовой стрелке через один.\n"
     ]
    }
   ],
   "source": [
    "text = 'Дек содержит последовательность символов для шифровки сообщений. Дан текстовый файл, содержащий зашифрованное сообщение. Пользуясь деком, расшифровать текст. Известно, что при шифровке каждый символ сообщения заменялся следующим за ним в деке по часовой стрелке через один.'.lower()\n",
    "\n",
    "encoded = ''\n",
    "for letter in text:\n",
    "    if encoded_letter := encode_char(letter):\n",
    "        encoded += encoded_letter\n",
    "    else:\n",
    "        encoded += letter\n",
    "\n",
    "print(encoded)\n",
    "\n",
    "decoded = ''\n",
    "for letter in encoded:\n",
    "    if decoded_letter := decode_char(letter):\n",
    "        decoded += decoded_letter\n",
    "    else:\n",
    "        decoded += letter\n",
    "print(decoded)"
   ]
  },
  {
   "source": [
    "### Задание 3\n",
    "Даны три стержня и n дисков различного размера. Диски можно надевать на\n",
    "стержни, образуя из них башни. Перенести n дисков со стержня А на стержень С,\n",
    "сохранив их первоначальный порядок. При переносе дисков необходимо соблюдать\n",
    "следующие правила:\n",
    "- на каждом шаге со стержня на стержень переносить только один диск;\n",
    "- диск нельзя помещать на диск меньшего размера;\n",
    "- для промежуточного хранения можно использовать стержень В.\n",
    "Реализовать алгоритм, используя три стека вместо стержней А, В, С. Информация\n",
    "о дисках хранится в исходном файле.\n",
    "\n",
    "https://en.wikipedia.org/wiki/Tower_of_Hanoi"
   ],
   "cell_type": "markdown",
   "metadata": {}
  },
  {
   "cell_type": "code",
   "execution_count": 34,
   "metadata": {},
   "outputs": [
    {
     "output_type": "stream",
     "name": "stdout",
     "text": [
      "1\n2\n3\n4\n5\n6\n7\n8\n9\n10\n"
     ]
    }
   ],
   "source": [
    "A = Stack()\n",
    "B = Stack()\n",
    "C = Stack()\n",
    "\n",
    "disks = 10\n",
    "\n",
    "for i in range(disks, 0, -1):\n",
    "    A.push(i)\n",
    "\n",
    "def move(a, b):\n",
    "    if len(a) == 0 and len(b) > 0:\n",
    "        a.push(b.pop())\n",
    "    elif len(a) > 0 and len(b) == 0:\n",
    "        b.push(a.pop())\n",
    "    elif a.peek() > b.peek():\n",
    "        a.push(b.pop())\n",
    "    else:\n",
    "        b.push(a.pop())\n",
    "\n",
    "if disks % 2 == 0:\n",
    "    while len(C) != disks:\n",
    "        move(A, B)\n",
    "        move(A, C)\n",
    "        move(B, C)\n",
    "else:\n",
    "    while len(C) != disks:\n",
    "        move(A, C)\n",
    "        move(A, B)\n",
    "        move(B, C)\n",
    "\n",
    "while not C.is_empty():\n",
    "    print(C.pop())\n",
    " "
   ]
  },
  {
   "source": [
    "### Задание 4\n",
    "Дан текстовый файл с программой на алгоритмическом языке. За один просмотр\n",
    "файла проверить баланс круглых скобок в тексте, используя стек."
   ],
   "cell_type": "markdown",
   "metadata": {}
  },
  {
   "cell_type": "code",
   "execution_count": 42,
   "metadata": {},
   "outputs": [
    {
     "output_type": "stream",
     "name": "stdout",
     "text": [
      "False\nTrue\n"
     ]
    }
   ],
   "source": [
    "def check_brackets(string):\n",
    "    bracket_stack = Stack()\n",
    "    for i in string:\n",
    "        if i == '(':\n",
    "            bracket_stack.push(i)\n",
    "        elif i == ')':\n",
    "            if bracket_stack.is_empty():\n",
    "                return False\n",
    "            bracket_stack.pop()\n",
    "    return bracket_stack.is_empty()\n",
    "\n",
    "print(check_brackets('()())((())(()(())()'))\n",
    "print(check_brackets('(()())()()()()(()(()(())()))'))"
   ]
  },
  {
   "source": [
    "### Задание 5\n",
    "Дан текстовый файл с программой на алгоритмическом языке. За один просмотр\n",
    "файла проверить баланс квадратных скобок в тексте, используя дек."
   ],
   "cell_type": "markdown",
   "metadata": {}
  },
  {
   "cell_type": "code",
   "execution_count": 46,
   "metadata": {},
   "outputs": [
    {
     "output_type": "stream",
     "name": "stdout",
     "text": [
      "False\nTrue\n"
     ]
    }
   ],
   "source": [
    "def check_square_brackets(string):\n",
    "    bracket_stack = Deque()\n",
    "    for i in string:\n",
    "        if i == '[':\n",
    "            bracket_stack.push(i)\n",
    "        elif i == ']':\n",
    "            if bracket_stack.is_empty():\n",
    "                return False\n",
    "            bracket_stack.pop()\n",
    "    return bracket_stack.is_empty()\n",
    "\n",
    "print(check_square_brackets('[][[][[[[]][[]]]]]]'))\n",
    "print(check_square_brackets('[[][][][[][]][][[][][][][]]][]'))"
   ]
  },
  {
   "source": [
    "### Задание 6\n",
    "Дан файл из символов. Используя стек, за один просмотр файла напечатать\n",
    "сначала все цифры, затем все буквы, и, наконец, все остальные символы, сохраняя\n",
    "исходный порядок в каждой группе символов."
   ],
   "cell_type": "markdown",
   "metadata": {}
  },
  {
   "cell_type": "code",
   "execution_count": 60,
   "metadata": {},
   "outputs": [
    {
     "output_type": "stream",
     "name": "stdout",
     "text": [
      "1\n2412412412412412412412214ДанфайлизсимволовИспользуястекзаодинпросмотрфайланапечататьсначалавсецифрызатемвсебуквыинаконецвсеостальныесимволысохраняяисходныйпорядоквкаждойгруппесимволов\n"
     ]
    }
   ],
   "source": [
    "text = 'Дан файл из символов. Используя стек 124, за один 124 просмотр файл 124а напечатать снач 124124ала все цифры 124124, затем 12214все буквы, и, наконец, все остальные символы, сохраняя исходный порядок в каждой группе символов.'\n",
    "\n",
    "letters = Stack()\n",
    "digits = Stack()\n",
    "others = Stack()\n",
    "\n",
    "for c in text:\n",
    "    if c.isalpha():\n",
    "        letters.push(c)\n",
    "    elif c.isdigit():\n",
    "        digits.push(c)\n",
    "    else:\n",
    "        other.push(c)\n",
    "\n",
    "new_text = ''\n",
    "\n",
    "letters.reverse()\n",
    "digits.reverse()\n",
    "others.reverse()\n",
    "\n",
    "print(digits.pop())\n",
    "\n",
    "while not digits.is_empty():\n",
    "    new_text += digits.pop()\n",
    "\n",
    "while not letters.is_empty():\n",
    "    new_text += letters.pop()\n",
    "\n",
    "while not others.is_empty():\n",
    "    new_text += others.pop()\n",
    "\n",
    "print(new_text)"
   ]
  },
  {
   "source": [
    "### Задание 7\n",
    "Дан файл из целых чисел. Используя дек, за один просмотр файла напечатать\n",
    "сначала все отрицательные числа, затем все положительные числа, сохраняя\n",
    "исходный порядок в каждой группе."
   ],
   "cell_type": "markdown",
   "metadata": {}
  },
  {
   "cell_type": "code",
   "execution_count": 79,
   "metadata": {},
   "outputs": [
    {
     "output_type": "stream",
     "name": "stdout",
     "text": [
      "[5, -7, 4, -1, -4, -1, 6, -6, 6, 1]\n-7\n-1\n-4\n-1\n-6\n5\n4\n6\n6\n1\n"
     ]
    }
   ],
   "source": [
    "numbers = [random.randint(-10, 10) for i in range(10)]\n",
    "print(numbers)\n",
    "\n",
    "deque = Deque()\n",
    "for n in numbers:\n",
    "    if n < 0:\n",
    "        deque.push_left(n)\n",
    "    else:\n",
    "        deque.push(n)\n",
    "\n",
    "while not deque.is_empty():\n",
    "    x = deque.pop_left()\n",
    "    if x < 0:\n",
    "        deque.push(x)\n",
    "    else:\n",
    "        deque.push_left(x)\n",
    "        break\n",
    "\n",
    "while not deque.is_empty():\n",
    "    x = deque.pop()\n",
    "    if x < 0:\n",
    "        print(x)\n",
    "    else:\n",
    "        deque.push(x)\n",
    "        break\n",
    "\n",
    "while not deque.is_empty():\n",
    "    print(deque.pop_left())\n"
   ]
  },
  {
   "source": [
    "### Задание 8\n",
    "Дан текстовый файл. Используя стек, сформировать новый текстовый файл,\n",
    "содержащий строки исходного файла, записанные в обратном порядке: первая\n",
    "строка становится последней, вторая – предпоследней и т.д."
   ],
   "cell_type": "markdown",
   "metadata": {}
  },
  {
   "cell_type": "code",
   "execution_count": 62,
   "metadata": {},
   "outputs": [
    {
     "output_type": "stream",
     "name": "stdout",
     "text": [
      "Ночной дозор\nПроект \"Рози\"\nЛабиринт отражений\nЧерное копье\nПредназначение быть Женщиной\nТрансерфинг реальности. Ступень V: Яблоки падают в небо\nЗеленые воды Ишмы\nОкольные пути\nМолли Мун останавливает время\nТайна полтергейста\nЖизнь Ивана Семенова, второклассника и второгодника\nМысли широко\nЛжец\nМаркиза де Сад\nПисьма римскому другу\nГорбун лорда Кромвеля\nАвгуст 1999. Летняя ночь\nДживс готовит омлет\nТетрадь Смерти. Другая Тетрадь: Дело лос-анджелесского убийцы ББ\nБлокадная книга\nМеханическая птица\nЖизнь Галилея\nДело не в кофе: Корпоративная культура Starbucks\nP. S. Я все еще люблю тебя\nЭндана\nВскрытие показало...\nОдинокая велосипедистка\nКредо\nНовые стансы к Августе\nПослание в бутылке\n\nПослание в бутылке\nНовые стансы к Августе\nКредо\nОдинокая велосипедистка\nВскрытие показало...\nЭндана\nP. S. Я все еще люблю тебя\nДело не в кофе: Корпоративная культура Starbucks\nЖизнь Галилея\nМеханическая птица\nБлокадная книга\nТетрадь Смерти. Другая Тетрадь: Дело лос-анджелесского убийцы ББ\nДживс готовит омлет\nАвгуст 1999. Летняя ночь\nГорбун лорда Кромвеля\nПисьма римскому другу\nМаркиза де Сад\nЛжец\nМысли широко\nЖизнь Ивана Семенова, второклассника и второгодника\nТайна полтергейста\nМолли Мун останавливает время\nОкольные пути\nЗеленые воды Ишмы\nТрансерфинг реальности. Ступень V: Яблоки падают в небо\nПредназначение быть Женщиной\nЧерное копье\nЛабиринт отражений\nПроект \"Рози\"\nНочной дозор\n"
     ]
    }
   ],
   "source": [
    "with open('books', 'r') as books:\n",
    "    stack = Stack()\n",
    "    for book in books:\n",
    "        book = book.strip()\n",
    "        print(book)\n",
    "        stack.push(book)\n",
    "    print()\n",
    "    while not stack.is_empty():\n",
    "        print(stack.pop())"
   ]
  },
  {
   "source": [
    "### Задание 9\n",
    "дан текстовый файл. Используя стек, вычислить значение логического выражения,\n",
    "записанного в текстовом файле в следующей форме:\n",
    "\n",
    "```\n",
    "< ЛВ > ::= T | F | (N<ЛВ>) | (<ЛВ>A<ЛВ>) | (<ЛВ>X<ЛВ>) | (<ЛВ>O<ЛВ>),\n",
    "```\n",
    "\n",
    "где буквами обозначены логические константы и операции:\n",
    "\n",
    "T – True, F – False, N – Not, A – And, X – Xor, O – Or."
   ],
   "cell_type": "markdown",
   "metadata": {}
  },
  {
   "cell_type": "code",
   "execution_count": 134,
   "metadata": {},
   "outputs": [
    {
     "output_type": "stream",
     "name": "stdout",
     "text": [
      "T\n"
     ]
    }
   ],
   "source": [
    "text = '((T)XF)X(TAT)OT'\n",
    "\n",
    "opstack = Stack()\n",
    "vstack = Stack()\n",
    "\n",
    "cur = 0\n",
    "while True:\n",
    "    read = False\n",
    "    if not opstack.is_empty():\n",
    "        if opstack.peek() == 'N':\n",
    "            if vstack.is_empty():\n",
    "                read = True\n",
    "            else:\n",
    "                if vstack.pop() == 'T':\n",
    "                    vstack.push('F')\n",
    "                else:\n",
    "                    vstack.push('T')\n",
    "                opstack.pop()\n",
    "        elif opstack.peek() == 'A':\n",
    "            if len(vstack) < 2:\n",
    "                read = True\n",
    "            else:\n",
    "                a = vstack.pop()\n",
    "                b = vstack.pop()\n",
    "                if a == b and b == 'T':\n",
    "                    vstack.push('T')\n",
    "                else:\n",
    "                    vstack.push('F')\n",
    "                opstack.pop()\n",
    "        elif opstack.peek() == 'O':\n",
    "            if len(vstack) < 2:\n",
    "                read = True\n",
    "            else:\n",
    "                a = vstack.pop()\n",
    "                b = vstack.pop()\n",
    "                if a == 'T' or b == 'T':\n",
    "                    vstack.push('T')\n",
    "                else:\n",
    "                    vstack.push('F')\n",
    "                opstack.pop()\n",
    "        elif opstack.peek() == 'X':\n",
    "            if len(vstack) < 2:\n",
    "                read = True\n",
    "            else:\n",
    "                a = vstack.pop()\n",
    "                b = vstack.pop()\n",
    "                if a != b:\n",
    "                    vstack.push('T')\n",
    "                else:\n",
    "                    vstack.push('F')\n",
    "                opstack.pop()\n",
    "        elif opstack.peek() == '(':\n",
    "            read = True\n",
    "        elif opstack.peek() == ')':\n",
    "            opstack.pop()\n",
    "            opstack.pop()\n",
    "    else:\n",
    "        read = True\n",
    "    if read:\n",
    "        i = text[cur]\n",
    "        if i in 'FT':\n",
    "            vstack.push(i)\n",
    "        if i in 'AXON()':\n",
    "            opstack.push(i)\n",
    "        cur += 1\n",
    "    \n",
    "\n",
    "    if cur == len(text) and len(opstack) == 0:\n",
    "        break\n",
    "\n",
    "while not vstack.is_empty():\n",
    "    print(vstack.pop())"
   ]
  },
  {
   "source": [
    "### Задание 10\n",
    "Дан текстовый файл. В текстовом файле записана формула следующего вида:\n",
    "\n",
    "```\n",
    "<Формула> ::= <Цифра> | M(<Формула>,<Формула>) | N(Формула>,<Формула>)\n",
    "< Цифра > ::= 0 | 1 | 2 | 3 | 4 | 5 | 6 | 7 | 8 | 9\n",
    "```\n",
    "\n",
    "где буквами обозначены функции:\n",
    "\n",
    "M – определение максимума, N – определение минимума.\n",
    "\n",
    "Используя стек, вычислить значение заданного выражения."
   ],
   "cell_type": "markdown",
   "metadata": {}
  },
  {
   "cell_type": "code",
   "execution_count": 138,
   "metadata": {},
   "outputs": [
    {
     "output_type": "stream",
     "name": "stdout",
     "text": [
      "7\n"
     ]
    }
   ],
   "source": [
    "text = 'N(10, M(4, N(8, M(7, M(6, M(5, 4))))))'\n",
    "\n",
    "op = Stack()\n",
    "nums = Stack()\n",
    "\n",
    "num = ''\n",
    "\n",
    "cur = 0\n",
    "while cur < len(text):\n",
    "    i = text[cur]\n",
    "    if i.isdigit():\n",
    "        num += i\n",
    "    elif num != '':\n",
    "        nums.push(int(num))\n",
    "        num = ''\n",
    "    if i in 'MN':\n",
    "        op.push(i)\n",
    "    cur += 1\n",
    "\n",
    "while not op.is_empty():\n",
    "    a = nums.pop()\n",
    "    b = nums.pop()\n",
    "    if a < b:\n",
    "        a,b = b,a\n",
    "    if op.pop() == 'M':\n",
    "        nums.push(a)\n",
    "    else:\n",
    "        nums.push(b)\n",
    "\n",
    "while not nums.is_empty():\n",
    "    print(nums.pop())"
   ]
  },
  {
   "source": [
    "### Задание 11\n",
    "Дан текстовый файл. Используя стек, проверить, является ли содержимое\n",
    "текстового файла правильной записью формулы вида:\n",
    "\n",
    "```\n",
    "< Формула > ::= < Терм > | < Терм > + < Формула > | < Терм > - < Формула >\n",
    "< Терм > ::= < Имя > | (< Формула >)\n",
    "< Имя > ::= x | y | z\n",
    "```"
   ],
   "cell_type": "markdown",
   "metadata": {}
  },
  {
   "cell_type": "code",
   "execution_count": 151,
   "metadata": {
    "tags": []
   },
   "outputs": [
    {
     "output_type": "execute_result",
     "data": {
      "text/plain": [
       "True"
      ]
     },
     "metadata": {},
     "execution_count": 151
    }
   ],
   "source": [
    "def check(text):\n",
    "    stack = Stack()\n",
    "\n",
    "    cur = 0\n",
    "    while True:\n",
    "        read = False\n",
    "        if not stack.is_empty():\n",
    "            if stack.peek() == '(':\n",
    "                read = True\n",
    "            elif stack.peek() == ')':\n",
    "                stack.pop()\n",
    "                if len(stack) < 2 or stack.pop() != 'formula' or stack.pop() != '(':\n",
    "                    return False\n",
    "                stack.push('formula')\n",
    "            elif stack.peek() == 'formula':\n",
    "                stack.pop()\n",
    "                if len(stack) > 1 and stack.peek() in '+-':\n",
    "                    if stack.pop() in '+-' and stack.pop() == 'formula':\n",
    "                        stack.push('formula')\n",
    "                    else:\n",
    "                        return False\n",
    "                else:\n",
    "                    stack.push('formula')\n",
    "                    read = True\n",
    "            else:\n",
    "                read = True\n",
    "        else:\n",
    "            read = True\n",
    "        if read:\n",
    "            i = text[cur]\n",
    "            if i in 'xyz':\n",
    "                stack.push('formula')\n",
    "            elif i in '()+-':\n",
    "                stack.push(i)\n",
    "            cur += 1\n",
    "        if cur == len(text) and len(stack) == 1:\n",
    "            break\n",
    "    return True\n",
    "\n",
    "check('((x + y) + (x - y) + z)')"
   ]
  },
  {
   "cell_type": "code",
   "execution_count": null,
   "metadata": {},
   "outputs": [],
   "source": []
  }
 ]
}